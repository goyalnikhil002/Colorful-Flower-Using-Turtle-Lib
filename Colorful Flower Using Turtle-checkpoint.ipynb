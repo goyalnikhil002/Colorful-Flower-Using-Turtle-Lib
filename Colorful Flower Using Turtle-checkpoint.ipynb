{
 "cells": [
  {
   "cell_type": "code",
   "execution_count": 3,
   "id": "eb359e89",
   "metadata": {},
   "outputs": [],
   "source": [
    "# Printing Colorful Flower \n",
    "import turtle\n",
    "t=turtle.Turtle()\n",
    "s=turtle.Screen()\n",
    "s.bgcolor('black')\n",
    "t.speed(0)\n",
    "col=(\"yellow\",\"red\",\"pink\",\"cyan\",\"light green\",\"blue\")\n",
    "for i in range(200):\n",
    "    t.pencolor(col[i%6])\n",
    "    t.circle(190-i/2,90)\n",
    "    t.lt(90)\n",
    "    t.circle(190-i/3,90)\n",
    "    t.lt(60)\n"
   ]
  },
  {
   "cell_type": "code",
   "execution_count": null,
   "id": "04c3e178",
   "metadata": {},
   "outputs": [],
   "source": []
  }
 ],
 "metadata": {
  "kernelspec": {
   "display_name": "Python 3 (ipykernel)",
   "language": "python",
   "name": "python3"
  },
  "language_info": {
   "codemirror_mode": {
    "name": "ipython",
    "version": 3
   },
   "file_extension": ".py",
   "mimetype": "text/x-python",
   "name": "python",
   "nbconvert_exporter": "python",
   "pygments_lexer": "ipython3",
   "version": "3.10.9"
  }
 },
 "nbformat": 4,
 "nbformat_minor": 5
}
